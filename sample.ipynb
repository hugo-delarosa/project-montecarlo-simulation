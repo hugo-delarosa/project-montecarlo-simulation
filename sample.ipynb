{
 "cells": [
  {
   "metadata": {},
   "cell_type": "markdown",
   "source": [
    "# PERT Simulation\n",
    "\n",
    "First we will make sure that the PERT simulation is working correctly. We will use the following parameters:\n",
    "- Optimistic: 6 days\n",
    "- Most likely: 24 days\n",
    "- Pessimistic: 50 days\n",
    "- Lambda: 4"
   ],
   "id": "f7d2e5ba8733dc29"
  },
  {
   "metadata": {
    "ExecuteTime": {
     "end_time": "2024-09-26T02:23:41.292016Z",
     "start_time": "2024-09-26T02:23:40.533756Z"
    }
   },
   "cell_type": "code",
   "source": [
    "import random\n",
    "import numpy as np\n",
    "import matplotlib.pyplot as plt\n",
    "from mpl_toolkits.mplot3d.proj3d import rot_x\n",
    "from setuptools.command.rotate import rotate\n",
    "\n",
    "\n",
    "def pert(a, b, c, *, size=1, lamb=4):\n",
    "    r = c - a\n",
    "    alpha = 1 + lamb * (b - a) / r\n",
    "    beta = 1 + lamb * (c - b) / r\n",
    "    return a + np.random.beta(alpha, beta, size=size) * r\n",
    "\n",
    "arr = pert(6,24, 50, size=100000)\n",
    "\n",
    "print(\"Worst case: {} days\".format(arr.max()))\n",
    "print(\"Best case: {} days\".format(arr.min()))\n",
    "print(\"Median: {} days\".format(np.median(arr)))\n",
    "\n",
    "plt.hist(arr, bins=50)\n",
    "plt.show()"
   ],
   "id": "4c05131c68f2e7dd",
   "outputs": [
    {
     "name": "stdout",
     "output_type": "stream",
     "text": [
      "Worst case: 49.63583601934134 days\n",
      "Best case: 6.214460019836227 days\n",
      "Median: 25.040754702049348 days\n"
     ]
    },
    {
     "data": {
      "text/plain": [
       "<Figure size 640x480 with 1 Axes>"
      ],
      "image/png": "[encoded data removed]"
     },
     "metadata": {},
     "output_type": "display_data"
    }
   ],
   "execution_count": 2
  },
  {
   "metadata": {},
   "cell_type": "markdown",
   "source": [
    "# Test the Critical Path library \n",
    "\n",
    "Now we will test the critical path library to make sure that it is working correctly. We will use the following parameters:\n",
    "- A: 0 days\n",
    "- B: 14 days\n",
    "- C: 10 days\n",
    "- D: 17 days\n",
    "- E: 10 days\n",
    "- F: 8 days\n",
    "- G: 25 days\n",
    "- H: 0 days\n",
    "- A -> B -> D -> F -> H = 39 days\n",
    "- A -> C -> E -> G -> H = 45 days"
   ],
   "id": "362b197b71127629"
  },
  {
   "metadata": {
    "ExecuteTime": {
     "end_time": "2024-09-26T02:23:52.807462Z",
     "start_time": "2024-09-26T02:23:52.804298Z"
    }
   },
   "cell_type": "code",
   "source": [
    "from criticalpath import Node\n",
    "project = Node('Project')\n",
    "a = Node('A', duration=0)\n",
    "b = Node('B', duration=14)\n",
    "c = Node('C', duration=10)\n",
    "d = Node('D', duration=17)\n",
    "e = Node('E', duration=10)\n",
    "f = Node('F', duration=8)\n",
    "g = Node('G', duration=25)\n",
    "h = Node('H', duration=0)\n",
    "project.add(a)\n",
    "project.add(b)\n",
    "project.add(c)\n",
    "project.add(d)\n",
    "project.add(e)\n",
    "project.add(f)\n",
    "project.add(g)\n",
    "project.add(h)\n",
    "\n",
    "project.link(a, b)\n",
    "project.link(a, c)\n",
    "project.link(b, d)\n",
    "project.link(c, e)\n",
    "project.link(d, f)\n",
    "project.link(e, g)\n",
    "project.link(f, h)\n",
    "project.link(g, h)\n",
    "\n",
    "\n",
    "project.update_all()\n",
    "print(project.get_critical_path())\n",
    "print(project.duration)"
   ],
   "id": "72fddcd908d82b54",
   "outputs": [
    {
     "name": "stdout",
     "output_type": "stream",
     "text": [
      "[A, C, E, G, H]\n",
      "45\n"
     ]
    }
   ],
   "execution_count": 4
  },
  {
   "metadata": {},
   "cell_type": "markdown",
   "source": [
    "# Test Manual PERT Simulation for Exercice 1 \n",
    "\n",
    "Now we will test the manual PERT simulation for the first exercice. We will use the following parameters:\n",
    "\n",
    "- A: 0 days\n",
    "- B: Optimistic: 14 days, Most likely: 20 days, Pessimistic: 40 days\n",
    "- C: Optimistic: 10 days, Most likely: 15 days, Pessimistic: 20 days\n",
    "- D: Optimistic: 17 days, Most likely: 25 days, Pessimistic: 55 days\n",
    "- E: Optimistic: 10 days, Most likely: 14 days, Pessimistic: 20 days\n",
    "- F: Optimistic: 8 days, Most likely: 12 days, Pessimistic: 20 days\n",
    "- G: Optimistic: 25 days, Most likely: 30 days, Pessimistic: 50 days\n",
    "- H: 0 days\n",
    "\n",
    "**Using PERT formula  -> (O + 4M + P) / 6**\n",
    "\n",
    "- A -> B -> D -> F -> H = 63.67 days\n",
    "- A -> C -> E -> G -> H = 61.83 days\n",
    "\n"
   ],
   "id": "de35a6f8c91f9859"
  },
  {
   "metadata": {
    "ExecuteTime": {
     "end_time": "2024-09-25T03:41:18.977267Z",
     "start_time": "2024-09-25T03:41:18.971469Z"
    }
   },
   "cell_type": "code",
   "source": [
    "def manualpert(opt, most, pes):\n",
    "    return (opt + 4*most + pes) / 6\n",
    "\n",
    "#set up durations\n",
    "a = 0\n",
    "b = manualpert(14, 20, 40)\n",
    "c = manualpert(10, 15, 20)\n",
    "d = manualpert(17, 25, 55)\n",
    "e = manualpert(10, 14, 20)\n",
    "f = manualpert(8, 12, 20)\n",
    "g = manualpert(25, 30, 50)\n",
    "h = 0\n",
    "\n",
    "#assign nodes\n",
    "project = Node('Project')\n",
    "a = Node('A', duration=0)\n",
    "b = Node('B', duration=b)\n",
    "c = Node('C', duration=c)\n",
    "d = Node('D', duration=d)\n",
    "e = Node('E', duration=e)\n",
    "f = Node('F', duration=f)\n",
    "g = Node('G', duration=g)\n",
    "h = Node('H', duration=0)\n",
    "project.add(a)\n",
    "project.add(b)\n",
    "project.add(c)\n",
    "project.add(d)\n",
    "project.add(e)\n",
    "project.add(f)\n",
    "project.add(g)\n",
    "project.add(h)\n",
    "\n",
    "#link the nodes \n",
    "project.link(a, b)\n",
    "project.link(a, c)\n",
    "project.link(b, d)\n",
    "project.link(c, e)\n",
    "project.link(d, f)\n",
    "project.link(e, g)\n",
    "project.link(f, h)\n",
    "project.link(g, h)\n",
    "\n",
    "project.update_all()\n",
    "print(project.get_critical_path())\n",
    "print(project.duration)\n"
   ],
   "id": "9a48d6136ea71623",
   "outputs": [
    {
     "name": "stdout",
     "output_type": "stream",
     "text": [
      "[A, B, D, F, H]\n",
      "63.666666666666664\n"
     ]
    }
   ],
   "execution_count": 246
  },
  {
   "metadata": {},
   "cell_type": "markdown",
   "source": [
    "# Test Pert Simulation for Exercice 1 with Monte Carlo\n",
    "\n",
    "Now we will test the PERT simulation for the first exercice using Monte Carlo. We will use the following parameters:\n",
    "\n",
    "- A: 0 days\n",
    "- B: Optimistic: 14 days, Most likely: 20 days, Pessimistic: 40 days\n",
    "- C: Optimistic: 10 days, Most likely: 15 days, Pessimistic: 20 days\n",
    "- D: Optimistic: 17 days, Most likely: 25 days, Pessimistic: 55 days\n",
    "- E: Optimistic: 10 days, Most likely: 14 days, Pessimistic: 20 days\n",
    "- F: Optimistic: 8 days, Most likely: 12 days, Pessimistic: 20 days\n",
    "- G: Optimistic: 25 days, Most likely: 30 days, Pessimistic: 50 days\n",
    "- H: 0 days\n",
    "\n",
    "**Parameters**\n",
    "- Number of simulations: 10,000\n",
    "- Here we can see that the critical path could be changing depending on the simulation. The expected duration is 63.666 days.\n",
    "\n"
   ],
   "id": "da49d5f771b8aea0"
  },
  {
   "metadata": {
    "ExecuteTime": {
     "end_time": "2024-09-25T03:42:37.117175Z",
     "start_time": "2024-09-25T03:42:37.105152Z"
    }
   },
   "cell_type": "code",
   "source": [
    "\n",
    "simulation_size = 10000\n",
    "a = 0\n",
    "b = np.random.choice(pert(14, 20, 40, size=simulation_size))\n",
    "c = np.random.choice(pert(10, 15, 20, size=simulation_size))\n",
    "d = np.random.choice(pert(17, 25, 55, size=simulation_size))\n",
    "e = np.random.choice(pert(10, 14, 20, size=simulation_size))\n",
    "f = np.random.choice(pert(8, 12, 20, size=simulation_size))\n",
    "g = np.random.choice(pert(25, 30, 50, size=simulation_size))\n",
    "h = 0\n",
    "\n",
    "#assign nodes\n",
    "project = Node('Project')\n",
    "a = Node('A', duration=a)\n",
    "b = Node('B', duration=b)\n",
    "c = Node('C', duration=c)\n",
    "d = Node('D', duration=d)\n",
    "e = Node('E', duration=e)\n",
    "f = Node('F', duration=f)\n",
    "g = Node('G', duration=g)\n",
    "h = Node('H', duration=h)\n",
    "project.add(a)\n",
    "project.add(b)\n",
    "project.add(c)\n",
    "project.add(d)\n",
    "project.add(e)\n",
    "project.add(f)\n",
    "project.add(g)\n",
    "project.add(h)\n",
    "\n",
    "\n",
    "#link the nodes\n",
    "project.link(a, b)\n",
    "project.link(a, c)\n",
    "project.link(b, d)\n",
    "project.link(c, e)\n",
    "project.link(d, f)\n",
    "project.link(e, g)\n",
    "project.link(f, h)\n",
    "project.link(g, h)\n",
    "\n",
    "project.update_all()\n",
    "print(project.get_critical_path())\n",
    "print(project.duration)\n"
   ],
   "id": "5c476d49e77b50ec",
   "outputs": [
    {
     "name": "stdout",
     "output_type": "stream",
     "text": [
      "[A, B, D, F, H]\n",
      "63.20605446968176\n"
     ]
    }
   ],
   "execution_count": 264
  },
  {
   "metadata": {},
   "cell_type": "markdown",
   "source": [
    "# Test Simulation Example from class\n",
    "\n",
    "Now we will test the simulation example from class. We will use the following parameters:\n",
    "\n",
    "- A: Optimistic: 0 weeks, Most likely: 3 weeks, Pessimistic: 6 weeks\n",
    "- B: Optimistic: 1 week, Most likely: 2 weeks, Pessimistic: 9 weeks\n",
    "- C: Optimistic: 2 weeks, Most likely: 5 weeks, Pessimistic: 8 weeks\n",
    "- D: Optimistic: 1 week, Most likely: 7 weeks, Pessimistic: 12 weeks\n",
    "- E: Optimistic: 4 weeks, Most likely: 6 weeks, Pessimistic: 12 weeks\n",
    "- F: Optimistic: 1 week, Most likely: 6 weeks, Pessimistic: 15 weeks\n",
    "- G: Optimistic: 0 weeks, Most likely: 2 weeks, Pessimistic: 4 weeks\n",
    "- H: Optimistic: 6 weeks, Most likely: 8 weeks, Pessimistic: 10 weeks\n",
    "\n",
    "**Preceding tasks**\n",
    "- A -> D\n",
    "- B -> G\n",
    "- C -> E\n",
    "- D -> G\n",
    "- E -> F\n",
    "- F -> G\n",
    "- G -> H\n"
   ],
   "id": "17df65b9b1290552"
  },
  {
   "metadata": {
    "ExecuteTime": {
     "end_time": "2024-09-25T03:43:42.209204Z",
     "start_time": "2024-09-25T03:43:42.201100Z"
    }
   },
   "cell_type": "code",
   "source": [
    "a = pert(0, 3, 6)\n",
    "b = pert(1, 2, 9)\n",
    "c = pert(2, 5, 8)\n",
    "d = pert(1, 7, 12)\n",
    "e = pert(4, 6, 12)\n",
    "f = pert(1, 6, 15)\n",
    "g = pert(0, 2, 4)\n",
    "h = pert(6, 8, 10)\n",
    "\n",
    "#assign nodes\n",
    "project = Node('Project')\n",
    "a = Node('A', duration=a)\n",
    "b = Node('B', duration=b)\n",
    "c = Node('C', duration=c)\n",
    "d = Node('D', duration=d)\n",
    "e = Node('E', duration=e)\n",
    "f = Node('F', duration=f)\n",
    "g = Node('G', duration=g)\n",
    "h = Node('H', duration=h)\n",
    "project.add(a)\n",
    "project.add(b)\n",
    "project.add(c)\n",
    "project.add(d)\n",
    "project.add(e)\n",
    "project.add(f)\n",
    "project.add(g)\n",
    "project.add(h)\n",
    "\n",
    "#link the nodes\n",
    "project.link(a, d)\n",
    "project.link(b, g)\n",
    "project.link(c, e)\n",
    "project.link(d, g)\n",
    "project.link(e, f)\n",
    "project.link(f, g)\n",
    "project.link(g, h)\n",
    "\n",
    "project.update_all()\n",
    "print(project.get_critical_path())\n",
    "print(project.duration)\n",
    "\n"
   ],
   "id": "993d249a0b790bd8",
   "outputs": [
    {
     "name": "stdout",
     "output_type": "stream",
     "text": [
      "[C, E, F, G, H]\n",
      "[28.03671293]\n"
     ]
    }
   ],
   "execution_count": 289
  },
  {
   "metadata": {},
   "cell_type": "markdown",
   "source": "# Test Simulation Example from class with Monte Carlo",
   "id": "39a7bc46959e5d26"
  },
  {
   "metadata": {
    "ExecuteTime": {
     "end_time": "2024-09-25T03:44:55.524879Z",
     "start_time": "2024-09-25T03:44:13.852503Z"
    }
   },
   "cell_type": "code",
   "source": [
    "project_results = []\n",
    "expectedWeeks = 22\n",
    "for x in range(simulation_size):\n",
    "    a = np.random.choice(pert(0, 3, 6, size=simulation_size))\n",
    "    b = np.random.choice(pert(1, 2, 9, size=simulation_size))\n",
    "    c = np.random.choice(pert(2, 5, 8, size=simulation_size))\n",
    "    d = np.random.choice(pert(1, 7, 12, size=simulation_size))\n",
    "    e = np.random.choice(pert(4, 6, 12, size=simulation_size))\n",
    "    f = np.random.choice(pert(1, 6, 15, size=simulation_size))\n",
    "    g = np.random.choice(pert(0, 2, 4, size=simulation_size))\n",
    "    h = np.random.choice(pert(6, 8, 10, size=simulation_size))\n",
    "    # a = pert(0, 3, 6)[0]\n",
    "    # b = pert(1, 2, 9)[0]\n",
    "    # c = pert(2, 5, 8)[0]\n",
    "    # d = pert(1, 7, 12)[0]\n",
    "    # e = pert(4, 6, 12)[0]\n",
    "    # f = pert(1, 6, 15)[0]\n",
    "    # g = pert(0, 2, 4)[0]\n",
    "    # h = pert(6, 8, 10)[0]\n",
    "    \n",
    "    #assign nodes\n",
    "    project = Node('Project')\n",
    "    a = Node('A', duration=a)\n",
    "    b = Node('B', duration=b)\n",
    "    c = Node('C', duration=c)\n",
    "    d = Node('D', duration=d)\n",
    "    e = Node('E', duration=e)\n",
    "    f = Node('F', duration=f)\n",
    "    g = Node('G', duration=g)\n",
    "    h = Node('H', duration=h)\n",
    "    project.add(a)\n",
    "    project.add(b)\n",
    "    project.add(c)\n",
    "    project.add(d)\n",
    "    project.add(e)\n",
    "    project.add(f)\n",
    "    project.add(g)\n",
    "    project.add(h)\n",
    "        \n",
    "    #link the nodes\n",
    "    project.link(a, d)\n",
    "    project.link(b, g)\n",
    "    project.link(c, e)\n",
    "    project.link(d, g)\n",
    "    project.link(e, f)\n",
    "    project.link(f, g)\n",
    "    project.link(g, h)\n",
    "    \n",
    "    project.update_all()\n",
    "    project_results.append(project.duration)\n",
    "\n",
    "prob = 0 \n",
    "while prob < 1:\n",
    "    result = np.quantile(project_results, prob)\n",
    "    if result <= expectedWeeks:\n",
    "        prob += 0.001\n",
    "    else:\n",
    "        print(\"prob {}% result {}\".format(prob * 100, result))\n",
    "        break\n",
    "  \n",
    "print(\"Mean: {} weeks\".format(np.mean(project_results)))\n",
    "print(\"Median: {} weeks\".format(np.median(project_results)))\n",
    "print(\"Mode: {} weeks\".format(np.argmax(np.bincount(project_results))))\n",
    "print(\"Worst case: {} weeks\".format(max(project_results)))\n",
    "print(\"Best case: {} weeks\".format(min(project_results)))\n",
    "print(\"Standard deviation: {} weeks\".format(np.std(project_results)))\n",
    "plt.hist(project_results, bins=50)\n",
    "\n",
    "print(\"Duration we are 95% confident wont be exceeded: {} weeks\".format(np.percentile(project_results, 95)))\n",
    "print(\"Duration we are 99% confident wont be exceeded: {} weeks\".format(np.percentile(project_results, 99)))\n",
    "\n"
   ],
   "id": "42a224188b7154a",
   "outputs": [
    {
     "name": "stdout",
     "output_type": "stream",
     "text": [
      "prob 1.900000000000001% result 22.00852982297475\n",
      "Mean: 28.37108921238223 weeks\n",
      "Median: 28.24960467230399 weeks\n",
      "Mode: 27 weeks\n",
      "Worst case: 40.453108374551455 weeks\n",
      "Best case: 18.364438655741168 weeks\n",
      "Standard deviation: 3.304629142084246 weeks\n",
      "Duration we are 95% confident wont be exceeded: 34.00759976412413 weeks\n",
      "Duration we are 99% confident wont be exceeded: 36.16527485077038 weeks\n"
     ]
    },
    {
     "data": {
      "text/plain": [
       "<Figure size 640x480 with 1 Axes>"
      ],
      "image/png": "[encoded data removed]"
     },
     "metadata": {},
     "output_type": "display_data"
    }
   ],
   "execution_count": 290
  },
  {
   "metadata": {},
   "cell_type": "markdown",
   "source": "# Implement automation reading from a file",
   "id": "1350f057e3828a09"
  },
  {
   "metadata": {
    "ExecuteTime": {
     "end_time": "2024-10-03T01:51:07.639629Z",
     "start_time": "2024-10-03T01:50:55.115618Z"
    }
   },
   "cell_type": "code",
   "source": [
    "import csv\n",
    "import numpy as np\n",
    "import matplotlib.pyplot as plt\n",
    "from criticalpath import Node\n",
    "\n",
    "\n",
    "simulation_size = 100000\n",
    "file_name = \"data/data.csv\"\n",
    "targetDuration = 27\n",
    "\n",
    "#auxiliary variables\n",
    "project_results = []\n",
    "project_results_critical_path = {}\n",
    "cache_node_duration = {}\n",
    "\n",
    "def pert(a, b, c, *, size=1, lamb=4):\n",
    "    r = c - a\n",
    "    alpha = 1 + lamb * (b - a) / r\n",
    "    beta = 1 + lamb * (c - b) / r\n",
    "    return a + np.random.beta(alpha, beta, size=size) * r\n",
    "def prob_for(expectedWeeks, project_results):\n",
    "    prob = 0 \n",
    "    while prob < 1:\n",
    "        result = np.quantile(project_results, prob)\n",
    "        if result <= expectedWeeks:\n",
    "            prob += 0.001\n",
    "        else:\n",
    "            print(\"prob {}% result {}\".format(prob * 100, result))\n",
    "            return prob * 100\n",
    "def create_project_from_file(file):\n",
    "    project = Node('Project')\n",
    "    with open(file) as csvfile:\n",
    "        csvreader = csv.reader(csvfile)\n",
    "        # fields = next(csvreader)\n",
    "        for line in csvreader:\n",
    "            name = line[0]\n",
    "            if name in cache_node_duration:\n",
    "                duration = np.random.choice(cache_node_duration[name])\n",
    "            else:\n",
    "                cache_node_duration[name] = pert(int(line[1]), int(line[2]), int(line[3]), size=simulation_size)\n",
    "                duration = np.random.choice(cache_node_duration[name])\n",
    "            # duration = pert(int(line[1]), int(line[2]), int(line[3]))[0]\n",
    "            # duration = np.random.choice(pert(int(line[1]), int(line[2]), int(line[3]), size=simulation_size))\n",
    "            new_node = Node(name, duration=duration)\n",
    "            project.add(new_node)\n",
    "            if line[4] != \"\":\n",
    "                for n in line[4].split(\"|\"):\n",
    "                    project.link(project.lookup_node(name=n), new_node)\n",
    "    return project\n",
    "\n",
    "for x in range(simulation_size):\n",
    "    project = create_project_from_file(file_name)\n",
    "    project.update_all()\n",
    "    project_results.append(project.duration)\n",
    "    s = ''.join(str(x) for x in project.get_critical_path())\n",
    "    if s in project_results_critical_path:\n",
    "        project_results_critical_path[s] += 1\n",
    "    else:\n",
    "        project_results_critical_path[s] = 1\n",
    "\n",
    "print(\"Mean: {} weeks\".format(np.mean(project_results)))\n",
    "print(\"Median: {} weeks\".format(np.median(project_results)))\n",
    "print(\"Mode: {} weeks\".format(np.argmax(np.bincount(project_results))))\n",
    "print(\"Worst case: {} weeks\".format(max(project_results)))\n",
    "print(\"Best case: {} weeks\".format(min(project_results)))\n",
    "print(\"Standard deviation: {} weeks\".format(np.std(project_results)))\n",
    "print(\"Duration we are 95% confident wont be exceeded: {} weeks\".format(np.percentile(project_results, 95)))\n",
    "print(\"Duration we are 99% confident wont be exceeded: {} weeks\".format(np.percentile(project_results, 99)))\n",
    "\n",
    "prob_for(targetDuration, project_results)\n",
    "\n",
    "plt.hist(project_results, bins=20, color='blue', edgecolor='k', alpha=0.65 )\n",
    "min_ylim, max_ylim = plt.ylim()\n",
    "\n",
    "\n",
    "plt.axvline(np.mean(project_results), linestyle='dashed', linewidth=1)\n",
    "plt.text(np.mean(project_results)*1.02, max_ylim*0.96, 'Mean: {:.2f}'.format(np.mean(project_results)))\n",
    "\n",
    "plt.axvline(targetDuration, color='yellow', linestyle='dashed', linewidth=2)\n",
    "plt.text(targetDuration - .2, max_ylim * 0.4, 'Target Duration: {:}'.format(targetDuration), rotation=90, rotation_mode='anchor', color='yellow')\n",
    "\n",
    "plt.axvline(np.min(project_results), color='green', linestyle='dashed', linewidth=3)\n",
    "plt.text(np.min(project_results)-.2, max_ylim * 0.4, 'Best Case: {:.2f}'.format(np.min(project_results)), rotation=90, rotation_mode='anchor', color='green')\n",
    "\n",
    "plt.axvline(np.max(project_results), color='red', linestyle='dashed', linewidth=3)\n",
    "plt.text(np.max(project_results) -.2, max_ylim * 0.4, 'Worst Case: {:.2f}'.format(np.max(project_results)), rotation=90, rotation_mode='anchor', color='red')\n",
    "\n",
    "print(\"Critical Path Results\")\n",
    "print(project_results_critical_path)\n"
   ],
   "id": "946903116f548026",
   "outputs": [
    {
     "name": "stdout",
     "output_type": "stream",
     "text": [
      "Mean: 28.36854662810242 weeks\n",
      "Median: 28.25754718051317 weeks\n",
      "Mode: 28 weeks\n",
      "Worst case: 41.08420219245659 weeks\n",
      "Best case: 17.24892689525 weeks\n",
      "Standard deviation: 3.3233459675445887 weeks\n",
      "Duration we are 95% confident wont be exceeded: 34.030601644783346 weeks\n",
      "Duration we are 99% confident wont be exceeded: 36.316763421784636 weeks\n",
      "prob 35.700000000000024% result 27.00080172065647\n",
      "Critical Path Results\n",
      "{'CEFGH': 98859, 'ADGH': 1141}\n"
     ]
    },
    {
     "data": {
      "text/plain": [
       "<Figure size 640x480 with 1 Axes>"
      ],
      "image/png": "[encoded data removed]"
     },
     "metadata": {},
     "output_type": "display_data"
    }
   ],
   "execution_count": 18
  },
  {
   "metadata": {},
   "cell_type": "markdown",
   "source": [
    "# Using the program to simulate projects\n",
    "## Set up the parameters for the simulation\n",
    "In the project you will find the following parameters:\n",
    "- File path: data/data.csv\n",
    "- Simulation size: 100,000\n",
    "- Target duration / Expected Duration: 27 weeks\n",
    "\n",
    "Those are represented in the code as follows:\n",
    "```python\n",
    "simulation_size = 100000\n",
    "file_name = \"data/data.csv\"\n",
    "targetDuration = 27\n",
    "```\n",
    "\n",
    "### Simulation Size\n",
    "The simulation size is the number of simulations that we will run. The higher the number, the more accurate the results will be. However, it will also take longer to run. In this case, we are running 100,000 simulations. This is the number of times that the project and the activities will be simulated.\n",
    "\n",
    "### File Path\n",
    "The file path is the path to the file that contains the information about the project. The file is a CSV file that contains the following columns:\n",
    "- Activity ID (or Name)\n",
    "- Optimistic Duration\n",
    "- Most Likely Duration\n",
    "- Pessimistic Duration\n",
    "- Preceding Activities (separated by a pipe \"|\")\n",
    "\n",
    "The file path is set to \"data/data.csv\". This file contains the project information for the simulation. In this case the file contains the information from the example in class:\n",
    "```\n",
    "A,0,3,6,\n",
    "B,1,2,9,\n",
    "C,2,5,8,\n",
    "D,1,7,12,A\n",
    "E,4,6,12,C\n",
    "F,1,6,15,E\n",
    "G,0,2,4,B|D|F\n",
    "H,6,8,10,G\n",
    "```\n",
    "### Target Duration\n",
    "The target duration is the expected duration for the project. In this case, the target duration is set to 27 weeks. This is the duration that we are aiming for in the simulation. The simulation will calculate the probability that the project will be completed within this duration.\n",
    "\n",
    "# Execution\n",
    "To run the simulation, you can simply run the code in the notebook. The simulation will read the project information from the file, run the specified number of simulations, and calculate the results. The results will include the mean, median, mode, best case, worst case, standard deviation, and the probability that the project will be completed within the target duration.\n"
   ],
   "id": "c9bba8d55f7ff88f"
  },
  {
   "metadata": {
    "ExecuteTime": {
     "end_time": "2024-11-25T21:08:07.306595Z",
     "start_time": "2024-11-25T21:07:55.560865Z"
    }
   },
   "cell_type": "code",
   "source": [
    "import csv\n",
    "import numpy as np\n",
    "import matplotlib.pyplot as plt\n",
    "from criticalpath import Node\n",
    "\n",
    "#\n",
    "# Parameters\n",
    "#\n",
    "#\n",
    "simulation_size = 100000\n",
    "file_name = \"data/data.csv\"\n",
    "targetDuration = 27\n",
    "#\n",
    "#\n",
    "#\n",
    "\n",
    "\n",
    "#auxiliary variables\n",
    "project_results = []\n",
    "project_results_critical_path = {}\n",
    "cache_node_duration = {}\n",
    "\n",
    "def pert(a, b, c, *, size=1, lamb=4):\n",
    "    r = c - a\n",
    "    alpha = 1 + lamb * (b - a) / r\n",
    "    beta = 1 + lamb * (c - b) / r\n",
    "    return a + np.random.beta(alpha, beta, size=size) * r\n",
    "def prob_for(expectedWeeks, project_results):\n",
    "    prob = 0 \n",
    "    while prob < 1:\n",
    "        result = np.quantile(project_results, prob)\n",
    "        if result <= expectedWeeks:\n",
    "            prob += 0.001\n",
    "        else:\n",
    "            print(\"prob {}% result {}\".format(prob * 100, result))\n",
    "            return prob * 100\n",
    "def create_project_from_file(file):\n",
    "    project = Node('Project')\n",
    "    with open(file) as csvfile:\n",
    "        csvreader = csv.reader(csvfile)\n",
    "        # fields = next(csvreader)\n",
    "        for line in csvreader:\n",
    "            name = line[0]\n",
    "            if name in cache_node_duration:\n",
    "                duration = np.random.choice(cache_node_duration[name])\n",
    "            else:\n",
    "                cache_node_duration[name] = pert(int(line[1]), int(line[2]), int(line[3]), size=simulation_size)\n",
    "                duration = np.random.choice(cache_node_duration[name])\n",
    "            # duration = pert(int(line[1]), int(line[2]), int(line[3]))[0]\n",
    "            # duration = np.random.choice(pert(int(line[1]), int(line[2]), int(line[3]), size=simulation_size))\n",
    "            new_node = Node(name, duration=duration)\n",
    "            project.add(new_node)\n",
    "            if line[4] != \"\":\n",
    "                for n in line[4].split(\"|\"):\n",
    "                    project.link(project.lookup_node(name=n), new_node)\n",
    "    return project\n",
    "\n",
    "for x in range(simulation_size):\n",
    "    project = create_project_from_file(file_name)\n",
    "    project.update_all()\n",
    "    project_results.append(project.duration)\n",
    "    s = ''.join(str(x) for x in project.get_critical_path())\n",
    "    if s in project_results_critical_path:\n",
    "        project_results_critical_path[s] += 1\n",
    "    else:\n",
    "        project_results_critical_path[s] = 1\n",
    "        \n",
    "print(\"----------------------------------\")\n",
    "print(\"Simulation Results\")\n",
    "print(\"Number of simulations: {}\".format(simulation_size))\n",
    "print(\"File: {}\".format(file_name))\n",
    "print(\"Target Duration: {} weeks\".format(targetDuration))\n",
    "print(\"----------------------------------\")\n",
    "print(\"Mean: {} weeks\".format(np.mean(project_results)))\n",
    "print(\"Median: {} weeks\".format(np.median(project_results)))\n",
    "print(\"Mode: {} weeks\".format(np.argmax(np.bincount(project_results))))\n",
    "print(\"Standard deviation: {} weeks\".format(np.std(project_results)))\n",
    "print(\"----------------------------------\")\n",
    "print(\"Critical Path Results\")\n",
    "print(project_results_critical_path)\n",
    "print(\"----------------------------------\")\n",
    "print(\"Worst case: {} weeks\".format(max(project_results)))\n",
    "print(\"Best case: {} weeks\".format(min(project_results)))\n",
    "print(\"----------------------------------\")\n",
    "print(\"Duration we are 95% confident wont be exceeded: {} weeks\".format(np.percentile(project_results, 95)))\n",
    "print(\"Duration we are 99% confident wont be exceeded: {} weeks\".format(np.percentile(project_results, 99)))\n",
    "\n",
    "prob_for(targetDuration, project_results)\n",
    "\n",
    "plt.hist(project_results, bins=20, color='blue', edgecolor='k', alpha=0.65 )\n",
    "min_ylim, max_ylim = plt.ylim()\n",
    "\n",
    "\n",
    "plt.axvline(np.mean(project_results), linestyle='dashed', linewidth=1)\n",
    "plt.text(np.mean(project_results)*1.02, max_ylim*0.96, 'Mean: {:.2f}'.format(np.mean(project_results)))\n",
    "\n",
    "plt.axvline(targetDuration, color='yellow', linestyle='dashed', linewidth=2)\n",
    "plt.text(targetDuration - .2, max_ylim * 0.4, 'Target Duration: {:}'.format(targetDuration), rotation=90, rotation_mode='anchor', color='yellow')\n",
    "\n",
    "plt.axvline(np.min(project_results), color='green', linestyle='dashed', linewidth=3)\n",
    "plt.text(np.min(project_results)-.2, max_ylim * 0.4, 'Best Case: {:.2f}'.format(np.min(project_results)), rotation=90, rotation_mode='anchor', color='green')\n",
    "\n",
    "plt.axvline(np.max(project_results), color='red', linestyle='dashed', linewidth=3)\n",
    "plt.text(np.max(project_results) -.2, max_ylim * 0.4, 'Worst Case: {:.2f}'.format(np.max(project_results)), rotation=90, rotation_mode='anchor', color='red')"
   ],
   "id": "ae3488900ab373f8",
   "outputs": [
    {
     "name": "stdout",
     "output_type": "stream",
     "text": [
      "----------------------------------\n",
      "Simulation Results\n",
      "Number of simulations: 100000\n",
      "File: data/data.csv\n",
      "Target Duration: 27 weeks\n",
      "----------------------------------\n",
      "Mean: 28.31352561078492 weeks\n",
      "Median: 28.18491205972942 weeks\n",
      "Mode: 27 weeks\n",
      "Standard deviation: 3.3405980722008706 weeks\n",
      "----------------------------------\n",
      "Critical Path Results\n",
      "{'CEFGH': 98778, 'ADGH': 1222}\n",
      "----------------------------------\n",
      "Worst case: 42.463246974114114 weeks\n",
      "Best case: 17.54755478796249 weeks\n",
      "----------------------------------\n",
      "Duration we are 95% confident wont be exceeded: 34.00268290672668 weeks\n",
      "Duration we are 99% confident wont be exceeded: 36.28014122278131 weeks\n",
      "prob 36.50000000000003% result 27.002624231403086\n"
     ]
    },
    {
     "data": {
      "text/plain": [
       "Text(42.26324697411411, 5955.6, 'Worst Case: 42.46')"
      ]
     },
     "execution_count": 3,
     "metadata": {},
     "output_type": "execute_result"
    },
    {
     "data": {
      "text/plain": [
       "<Figure size 640x480 with 1 Axes>"
      ],
      "image/png": "[encoded data removed]"
     },
     "metadata": {},
     "output_type": "display_data"
    }
   ],
   "execution_count": 3
  }
 ],
 "metadata": {
  "kernelspec": {
   "display_name": "Python 3",
   "language": "python",
   "name": "python3"
  },
  "language_info": {
   "codemirror_mode": {
    "name": "ipython",
    "version": 2
   },
   "file_extension": ".py",
   "mimetype": "text/x-python",
   "name": "python",
   "nbconvert_exporter": "python",
   "pygments_lexer": "ipython2",
   "version": "2.7.6"
  }
 },
 "nbformat": 4,
 "nbformat_minor": 5
}

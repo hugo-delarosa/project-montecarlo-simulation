{
 "cells": [
  {
   "metadata": {},
   "cell_type": "markdown",
   "source": [
    "# PERT Simulation\n",
    "\n",
    "First we will make sure that the PERT simulation is working correctly. We will use the following parameters:\n",
    "- Optimistic: 6 days\n",
    "- Most likely: 24 days\n",
    "- Pessimistic: 50 days\n",
    "- Lambda: 4"
   ],
   "id": "f7d2e5ba8733dc29"
  },
  {
   "metadata": {
    "ExecuteTime": {
     "end_time": "2024-09-24T01:29:09.215693Z",
     "start_time": "2024-09-24T01:29:08.504664Z"
    }
   },
   "cell_type": "code",
   "source": [
    "import random\n",
    "import numpy as np\n",
    "import matplotlib.pyplot as plt\n",
    "from mpl_toolkits.mplot3d.proj3d import rot_x\n",
    "from setuptools.command.rotate import rotate\n",
    "\n",
    "\n",
    "def pert(a, b, c, *, size=1, lamb=4):\n",
    "    r = c - a\n",
    "    alpha = 1 + lamb * (b - a) / r\n",
    "    beta = 1 + lamb * (c - b) / r\n",
    "    return a + np.random.beta(alpha, beta, size=size) * r\n",
    "\n",
    "arr = pert(6,24, 50, size=100000)\n",
    "\n",
    "print(\"Worst case: {} days\".format(arr.max()))\n",
    "print(\"Best case: {} days\".format(arr.min()))\n",
    "print(\"Median: {} days\".format(np.median(arr)))\n",
    "\n",
    "plt.hist(arr, bins=50)\n",
    "plt.show()"
   ],
   "id": "4c05131c68f2e7dd",
   "outputs": [
    {
     "name": "stdout",
     "output_type": "stream",
     "text": [
      "Worst case: 49.25369450371868 days\n",
      "Best case: 6.148593414780638 days\n",
      "Median: 25.08765970110381 days\n"
     ]
    },
    {
     "data": {
      "text/plain": [
       "<Figure size 640x480 with 1 Axes>"
      ],
      "image/png": "[encoded data removed]"
     },
     "metadata": {},
     "output_type": "display_data"
    }
   ],
   "execution_count": 3
  },
  {
   "metadata": {},
   "cell_type": "markdown",
   "source": [
    "# Test the Critical Path library \n",
    "\n",
    "Now we will test the critical path library to make sure that it is working correctly. We will use the following parameters:\n",
    "- A: 0 days\n",
    "- B: 14 days\n",
    "- C: 10 days\n",
    "- D: 17 days\n",
    "- E: 10 days\n",
    "- F: 8 days\n",
    "- G: 25 days\n",
    "- H: 0 days\n",
    "- A -> B -> D -> F -> H = 39 days\n",
    "- A -> C -> E -> G -> H = 45 days"
   ],
   "id": "362b197b71127629"
  },
  {
   "metadata": {
    "ExecuteTime": {
     "end_time": "2024-09-24T02:02:53.694996Z",
     "start_time": "2024-09-24T02:02:53.689302Z"
    }
   },
   "cell_type": "code",
   "source": [
    "from criticalpath import Node\n",
    "project = Node('Project')\n",
    "a = Node('A', duration=0)\n",
    "b = Node('B', duration=14)\n",
    "c = Node('C', duration=10)\n",
    "d = Node('D', duration=17)\n",
    "e = Node('E', duration=10)\n",
    "f = Node('F', duration=8)\n",
    "g = Node('G', duration=25)\n",
    "h = Node('H', duration=0)\n",
    "project.add(a)\n",
    "project.add(b)\n",
    "project.add(c)\n",
    "project.add(d)\n",
    "project.add(e)\n",
    "project.add(f)\n",
    "project.add(g)\n",
    "project.add(h)\n",
    "\n",
    "project.link(a, b)\n",
    "project.link(a, c)\n",
    "project.link(b, d)\n",
    "project.link(c, e)\n",
    "project.link(d, f)\n",
    "project.link(e, g)\n",
    "project.link(f, h)\n",
    "project.link(g, h)\n",
    "\n",
    "\n",
    "project.update_all()\n",
    "print(project.get_critical_path())\n",
    "print(project.duration)"
   ],
   "id": "72fddcd908d82b54",
   "outputs": [
    {
     "name": "stdout",
     "output_type": "stream",
     "text": [
      "[A, C, E, G, H]\n",
      "45\n"
     ]
    }
   ],
   "execution_count": 5
  },
  {
   "metadata": {},
   "cell_type": "markdown",
   "source": [
    "# Test Manual PERT Simulation for Exercice 1 \n",
    "\n",
    "Now we will test the manual PERT simulation for the first exercice. We will use the following parameters:\n",
    "\n",
    "- A: 0 days\n",
    "- B: Optimistic: 14 days, Most likely: 20 days, Pessimistic: 40 days\n",
    "- C: Optimistic: 10 days, Most likely: 15 days, Pessimistic: 20 days\n",
    "- D: Optimistic: 17 days, Most likely: 25 days, Pessimistic: 55 days\n",
    "- E: Optimistic: 10 days, Most likely: 14 days, Pessimistic: 20 days\n",
    "- F: Optimistic: 8 days, Most likely: 12 days, Pessimistic: 20 days\n",
    "- G: Optimistic: 25 days, Most likely: 30 days, Pessimistic: 50 days\n",
    "- H: 0 days\n",
    "\n",
    "**Using PERT formula  -> (O + 4M + P) / 6**\n",
    "\n",
    "- A -> B -> D -> F -> H = 63.67 days\n",
    "- A -> C -> E -> G -> H = 61.83 days\n",
    "\n"
   ],
   "id": "de35a6f8c91f9859"
  },
  {
   "metadata": {
    "ExecuteTime": {
     "end_time": "2024-09-24T02:02:57.439479Z",
     "start_time": "2024-09-24T02:02:57.428636Z"
    }
   },
   "cell_type": "code",
   "source": [
    "def manualpert(opt, most, pes):\n",
    "    return (opt + 4*most + pes) / 6\n",
    "\n",
    "#set up durations\n",
    "a = 0\n",
    "b = manualpert(14, 20, 40)\n",
    "c = manualpert(10, 15, 20)\n",
    "d = manualpert(17, 25, 55)\n",
    "e = manualpert(10, 14, 20)\n",
    "f = manualpert(8, 12, 20)\n",
    "g = manualpert(25, 30, 50)\n",
    "h = 0\n",
    "\n",
    "#assign nodes\n",
    "project = Node('Project')\n",
    "a = Node('A', duration=0)\n",
    "b = Node('B', duration=b)\n",
    "c = Node('C', duration=c)\n",
    "d = Node('D', duration=d)\n",
    "e = Node('E', duration=e)\n",
    "f = Node('F', duration=f)\n",
    "g = Node('G', duration=g)\n",
    "h = Node('H', duration=0)\n",
    "project.add(a)\n",
    "project.add(b)\n",
    "project.add(c)\n",
    "project.add(d)\n",
    "project.add(e)\n",
    "project.add(f)\n",
    "project.add(g)\n",
    "project.add(h)\n",
    "\n",
    "#link the nodes \n",
    "project.link(a, b)\n",
    "project.link(a, c)\n",
    "project.link(b, d)\n",
    "project.link(c, e)\n",
    "project.link(d, f)\n",
    "project.link(e, g)\n",
    "project.link(f, h)\n",
    "project.link(g, h)\n",
    "\n",
    "project.update_all()\n",
    "print(project.get_critical_path())\n",
    "print(project.duration)\n"
   ],
   "id": "9a48d6136ea71623",
   "outputs": [
    {
     "name": "stdout",
     "output_type": "stream",
     "text": [
      "[A, B, D, F, H]\n",
      "63.666666666666664\n"
     ]
    }
   ],
   "execution_count": 6
  },
  {
   "metadata": {},
   "cell_type": "markdown",
   "source": [
    "# Test Pert Simulation for Exercice 1 with Monte Carlo\n",
    "\n",
    "Now we will test the PERT simulation for the first exercice using Monte Carlo. We will use the following parameters:\n",
    "\n",
    "- A: 0 days\n",
    "- B: Optimistic: 14 days, Most likely: 20 days, Pessimistic: 40 days\n",
    "- C: Optimistic: 10 days, Most likely: 15 days, Pessimistic: 20 days\n",
    "- D: Optimistic: 17 days, Most likely: 25 days, Pessimistic: 55 days\n",
    "- E: Optimistic: 10 days, Most likely: 14 days, Pessimistic: 20 days\n",
    "- F: Optimistic: 8 days, Most likely: 12 days, Pessimistic: 20 days\n",
    "- G: Optimistic: 25 days, Most likely: 30 days, Pessimistic: 50 days\n",
    "- H: 0 days\n",
    "\n",
    "**Parameters**\n",
    "- Number of simulations: 10,000\n",
    "- Here we can see that the critical path could be changing depending on the simulation. The expected duration is 63.666 days.\n",
    "\n"
   ],
   "id": "da49d5f771b8aea0"
  },
  {
   "metadata": {
    "ExecuteTime": {
     "end_time": "2024-09-24T23:18:17.167098Z",
     "start_time": "2024-09-24T23:18:17.123549Z"
    }
   },
   "cell_type": "code",
   "source": [
    "\n",
    "simulation_size = 100000\n",
    "a = 0\n",
    "b = np.random.choice(pert(14, 20, 40, size=simulation_size))\n",
    "c = np.random.choice(pert(10, 15, 20, size=simulation_size))\n",
    "d = np.random.choice(pert(17, 25, 55, size=simulation_size))\n",
    "e = np.random.choice(pert(10, 14, 20, size=simulation_size))\n",
    "f = np.random.choice(pert(8, 12, 20, size=simulation_size))\n",
    "g = np.random.choice(pert(25, 30, 50, size=simulation_size))\n",
    "h = 0\n",
    "\n",
    "\n",
    "print(\"Expected duration: {} days\".format(np.mean(a + b + d + f + h)))\n",
    "\n",
    "#assign nodes\n",
    "project = Node('Project')\n",
    "a = Node('A', duration=a)\n",
    "b = Node('B', duration=b)\n",
    "c = Node('C', duration=c)\n",
    "d = Node('D', duration=d)\n",
    "e = Node('E', duration=e)\n",
    "f = Node('F', duration=f)\n",
    "g = Node('G', duration=g)\n",
    "h = Node('H', duration=h)\n",
    "project.add(a)\n",
    "project.add(b)\n",
    "project.add(c)\n",
    "project.add(d)\n",
    "project.add(e)\n",
    "project.add(f)\n",
    "project.add(g)\n",
    "project.add(h)\n",
    "\n",
    "\n",
    "#link the nodes\n",
    "project.link(a, b)\n",
    "project.link(a, c)\n",
    "project.link(b, d)\n",
    "project.link(c, e)\n",
    "project.link(d, f)\n",
    "project.link(e, g)\n",
    "project.link(f, h)\n",
    "project.link(g, h)\n",
    "\n",
    "project.update_all()\n",
    "print(project.get_critical_path())\n",
    "print(project.duration)\n"
   ],
   "id": "5c476d49e77b50ec",
   "outputs": [
    {
     "name": "stdout",
     "output_type": "stream",
     "text": [
      "Expected duration: 52.54136093087263 days\n",
      "[A, C, E, G, H]\n",
      "57.80811338698953\n"
     ]
    }
   ],
   "execution_count": 185
  },
  {
   "metadata": {},
   "cell_type": "markdown",
   "source": [
    "# Test Simulation Example from class\n",
    "\n",
    "Now we will test the simulation example from class. We will use the following parameters:\n",
    "\n",
    "- A: Optimistic: 0 weeks, Most likely: 3 weeks, Pessimistic: 6 weeks\n",
    "- B: Optimistic: 1 week, Most likely: 2 weeks, Pessimistic: 9 weeks\n",
    "- C: Optimistic: 2 weeks, Most likely: 5 weeks, Pessimistic: 8 weeks\n",
    "- D: Optimistic: 1 week, Most likely: 7 weeks, Pessimistic: 12 weeks\n",
    "- E: Optimistic: 4 weeks, Most likely: 6 weeks, Pessimistic: 12 weeks\n",
    "- F: Optimistic: 1 week, Most likely: 6 weeks, Pessimistic: 15 weeks\n",
    "- G: Optimistic: 0 weeks, Most likely: 2 weeks, Pessimistic: 4 weeks\n",
    "- H: Optimistic: 6 weeks, Most likely: 8 weeks, Pessimistic: 10 weeks\n",
    "\n",
    "**Preceding tasks**\n",
    "- A -> D\n",
    "- B -> G\n",
    "- C -> E\n",
    "- D -> G\n",
    "- E -> F\n",
    "- F -> G\n",
    "- G -> H\n"
   ],
   "id": "17df65b9b1290552"
  },
  {
   "metadata": {
    "ExecuteTime": {
     "end_time": "2024-09-24T23:13:25.761847Z",
     "start_time": "2024-09-24T23:13:25.751959Z"
    }
   },
   "cell_type": "code",
   "source": [
    "a = pert(0, 3, 6)\n",
    "b = pert(1, 2, 9)\n",
    "c = pert(2, 5, 8)\n",
    "d = pert(1, 7, 12)\n",
    "e = pert(4, 6, 12)\n",
    "f = pert(1, 6, 15)\n",
    "g = pert(0, 2, 4)\n",
    "h = pert(6, 8, 10)\n",
    "\n",
    "print(\"Expected duration: {} weeks\".format(np.mean(a + d + g + h)))\n",
    "\n",
    "#assign nodes\n",
    "project = Node('Project')\n",
    "a = Node('A', duration=a)\n",
    "b = Node('B', duration=b)\n",
    "c = Node('C', duration=c)\n",
    "d = Node('D', duration=d)\n",
    "e = Node('E', duration=e)\n",
    "f = Node('F', duration=f)\n",
    "g = Node('G', duration=g)\n",
    "h = Node('H', duration=h)\n",
    "project.add(a)\n",
    "project.add(b)\n",
    "project.add(c)\n",
    "project.add(d)\n",
    "project.add(e)\n",
    "project.add(f)\n",
    "project.add(g)\n",
    "project.add(h)\n",
    "\n",
    "#link the nodes\n",
    "project.link(a, d)\n",
    "project.link(b, g)\n",
    "project.link(c, e)\n",
    "project.link(d, g)\n",
    "project.link(e, f)\n",
    "project.link(f, g)\n",
    "project.link(g, h)\n",
    "\n",
    "project.update_all()\n",
    "print(project.get_critical_path())\n",
    "print(project.duration)\n",
    "\n"
   ],
   "id": "993d249a0b790bd8",
   "outputs": [
    {
     "name": "stdout",
     "output_type": "stream",
     "text": [
      "Expected duration: 18.54236263120275 weeks\n",
      "[C, E, F, G, H]\n",
      "[26.31696988]\n"
     ]
    }
   ],
   "execution_count": 183
  },
  {
   "metadata": {},
   "cell_type": "markdown",
   "source": "# Test Simulation Example from class with Monte Carlo",
   "id": "39a7bc46959e5d26"
  },
  {
   "metadata": {
    "ExecuteTime": {
     "end_time": "2024-09-24T17:42:30.697986Z",
     "start_time": "2024-09-24T17:42:29.962245Z"
    }
   },
   "cell_type": "code",
   "source": [
    "project_results = []\n",
    "expectedWeeks = 22\n",
    "for x in range(simulation_size):\n",
    "    # a = np.random.choice(pert(0, 3, 6, size=simulation_size))\n",
    "    # b = np.random.choice(pert(1, 2, 9, size=simulation_size))\n",
    "    # c = np.random.choice(pert(2, 5, 8, size=simulation_size))\n",
    "    # d = np.random.choice(pert(1, 7, 12, size=simulation_size))\n",
    "    # e = np.random.choice(pert(4, 6, 12, size=simulation_size))\n",
    "    # f = np.random.choice(pert(1, 6, 15, size=simulation_size))\n",
    "    # g = np.random.choice(pert(0, 2, 4, size=simulation_size))\n",
    "    # h = np.random.choice(pert(6, 8, 10, size=simulation_size))\n",
    "    a = pert(0, 3, 6)[0]\n",
    "    b = pert(1, 2, 9)[0]\n",
    "    c = pert(2, 5, 8)[0]\n",
    "    d = pert(1, 7, 12)[0]\n",
    "    e = pert(4, 6, 12)[0]\n",
    "    f = pert(1, 6, 15)[0]\n",
    "    g = pert(0, 2, 4)[0]\n",
    "    h = pert(6, 8, 10)[0]\n",
    "    \n",
    "    #assign nodes\n",
    "    project = Node('Project')\n",
    "    a = Node('A', duration=a)\n",
    "    b = Node('B', duration=b)\n",
    "    c = Node('C', duration=c)\n",
    "    d = Node('D', duration=d)\n",
    "    e = Node('E', duration=e)\n",
    "    f = Node('F', duration=f)\n",
    "    g = Node('G', duration=g)\n",
    "    h = Node('H', duration=h)\n",
    "    project.add(a)\n",
    "    project.add(b)\n",
    "    project.add(c)\n",
    "    project.add(d)\n",
    "    project.add(e)\n",
    "    project.add(f)\n",
    "    project.add(g)\n",
    "    project.add(h)\n",
    "        \n",
    "    #link the nodes\n",
    "    project.link(a, d)\n",
    "    project.link(b, g)\n",
    "    project.link(c, e)\n",
    "    project.link(d, g)\n",
    "    project.link(e, f)\n",
    "    project.link(f, g)\n",
    "    project.link(g, h)\n",
    "    \n",
    "    project.update_all()\n",
    "    project_results.append(project.duration)\n",
    "\n",
    "prob = 0 \n",
    "while prob < 1:\n",
    "    result = np.quantile(project_results, prob)\n",
    "    if result <= expectedWeeks:\n",
    "        prob += 0.001\n",
    "    else:\n",
    "        print(\"prob {}% result {}\".format(prob * 100, result))\n",
    "        break\n",
    "  \n",
    "print(\"Mean: {} weeks\".format(np.mean(project_results)))\n",
    "print(\"Median: {} weeks\".format(np.median(project_results)))\n",
    "print(\"Mode: {} weeks\".format(np.argmax(np.bincount(project_results))))\n",
    "print(\"Worst case: {} weeks\".format(max(project_results)))\n",
    "print(\"Best case: {} weeks\".format(min(project_results)))\n",
    "print(\"Standard deviation: {} weeks\".format(np.std(project_results)))\n",
    "plt.hist(project_results, bins=50)\n",
    "\n",
    "print(\"Duration we are 95% confident wont be exceeded: {} weeks\".format(np.percentile(project_results, 95)))\n",
    "print(\"Duration we are 99% confident wont be exceeded: {} weeks\".format(np.percentile(project_results, 99)))\n",
    "\n"
   ],
   "id": "42a224188b7154a",
   "outputs": [
    {
     "name": "stdout",
     "output_type": "stream",
     "text": [
      "prob 1.900000000000001% result 22.01414696768318\n",
      "Mean: 28.359215400225086 weeks\n",
      "Median: 28.26322894628484 weeks\n",
      "Mode: 28 weeks\n",
      "Worst case: 41.05316779785603 weeks\n",
      "Best case: 18.30814216276493 weeks\n",
      "Standard deviation: 3.35350047387415 weeks\n",
      "Duration we are 95% confident wont be exceeded: 34.08515733003051 weeks\n",
      "Duration we are 99% confident wont be exceeded: 36.396351305841435 weeks\n"
     ]
    },
    {
     "data": {
      "text/plain": [
       "<Figure size 640x480 with 1 Axes>"
      ],
      "image/png": "[encoded data removed]"
     },
     "metadata": {},
     "output_type": "display_data"
    }
   ],
   "execution_count": 104
  },
  {
   "metadata": {},
   "cell_type": "markdown",
   "source": "# Implement automation reading from a file",
   "id": "1350f057e3828a09"
  },
  {
   "metadata": {
    "ExecuteTime": {
     "end_time": "2024-09-24T23:27:22.012943Z",
     "start_time": "2024-09-24T23:27:20.885866Z"
    }
   },
   "cell_type": "code",
   "source": [
    "import csv\n",
    "simulation_size = 10000\n",
    "file_name = \"data/data.csv\"\n",
    "targetDuration = 22\n",
    "project_results = []\n",
    "cache_node_duration = {}\n",
    "\n",
    "\n",
    "def prob_for(expectedWeeks, project_results):\n",
    "    prob = 0 \n",
    "    while prob < 1:\n",
    "        result = np.quantile(project_results, prob)\n",
    "        if result <= expectedWeeks:\n",
    "            prob += 0.001\n",
    "        else:\n",
    "            print(\"prob {}% result {}\".format(prob * 100, result))\n",
    "            return prob * 100\n",
    "def create_project_from_file(file):\n",
    "    project = Node('Project')\n",
    "    with open(file) as csvfile:\n",
    "        csvreader = csv.reader(csvfile)\n",
    "        # fields = next(csvreader)\n",
    "        for line in csvreader:\n",
    "            name = line[0]\n",
    "            if name in cache_node_duration:\n",
    "                duration = np.random.choice(cache_node_duration[name])\n",
    "            else:\n",
    "                cache_node_duration[name] = pert(int(line[1]), int(line[2]), int(line[3]), size=simulation_size)\n",
    "                duration = np.random.choice(cache_node_duration[name])\n",
    "            # duration = pert(int(line[1]), int(line[2]), int(line[3]))[0]\n",
    "            # duration = np.random.choice(pert(int(line[1]), int(line[2]), int(line[3]), size=simulation_size))\n",
    "            new_node = Node(name, duration=duration)\n",
    "            project.add(new_node)\n",
    "            if line[4] != \"\":\n",
    "                for n in line[4].split(\"|\"):\n",
    "                    project.link(project.lookup_node(name=n), new_node)\n",
    "    return project\n",
    "\n",
    "for x in range(simulation_size):\n",
    "    project = create_project_from_file(file_name)\n",
    "    project.update_all()\n",
    "    project_results.append(project.duration)\n",
    "\n",
    "print(\"Mean: {} weeks\".format(np.mean(project_results)))\n",
    "print(\"Median: {} weeks\".format(np.median(project_results)))\n",
    "print(\"Mode: {} weeks\".format(np.argmax(np.bincount(project_results))))\n",
    "print(\"Worst case: {} weeks\".format(max(project_results)))\n",
    "print(\"Best case: {} weeks\".format(min(project_results)))\n",
    "print(\"Standard deviation: {} weeks\".format(np.std(project_results)))\n",
    "print(\"Duration we are 95% confident wont be exceeded: {} weeks\".format(np.percentile(project_results, 95)))\n",
    "print(\"Duration we are 99% confident wont be exceeded: {} weeks\".format(np.percentile(project_results, 99)))\n",
    "\n",
    "prob_for(targetDuration, project_results)\n",
    "\n",
    "plt.hist(project_results, bins=35, color='blue', edgecolor='k', alpha=0.65 )\n",
    "min_ylim, max_ylim = plt.ylim()\n",
    "plt.axvline(np.mean(project_results), color='r', linestyle='dashed', linewidth=2)\n",
    "plt.text(np.mean(project_results)*1.02, max_ylim*0.96, 'Mean: {:.2f}'.format(np.mean(project_results)))\n",
    "plt.text(targetDuration * 1.045, max_ylim * 0.4, 'Target Duration: {:}'.format(targetDuration), rotation=90, rotation_mode='anchor', color='green')\n",
    "plt.axvline(targetDuration, color='green', linestyle='dashed', linewidth=2)\n"
   ],
   "id": "946903116f548026",
   "outputs": [
    {
     "name": "stdout",
     "output_type": "stream",
     "text": [
      "Mean: 28.37883498414486 weeks\n",
      "Median: 28.27348689987688 weeks\n",
      "Mode: 27 weeks\n",
      "Worst case: 42.10365600975899 weeks\n",
      "Best case: 17.941543566470997 weeks\n",
      "Standard deviation: 3.346873503062806 weeks\n",
      "Duration we are 95% confident wont be exceeded: 34.09857365830659 weeks\n",
      "Duration we are 99% confident wont be exceeded: 36.289191640320524 weeks\n",
      "prob 1.900000000000001% result 22.0325408978838\n"
     ]
    },
    {
     "data": {
      "text/plain": [
       "<matplotlib.lines.Line2D at 0x3c44870b0>"
      ]
     },
     "execution_count": 203,
     "metadata": {},
     "output_type": "execute_result"
    },
    {
     "data": {
      "text/plain": [
       "<Figure size 640x480 with 1 Axes>"
      ],
      "image/png": "[encoded data removed]"
     },
     "metadata": {},
     "output_type": "display_data"
    }
   ],
   "execution_count": 203
  }
 ],
 "metadata": {
  "kernelspec": {
   "display_name": "Python 3",
   "language": "python",
   "name": "python3"
  },
  "language_info": {
   "codemirror_mode": {
    "name": "ipython",
    "version": 2
   },
   "file_extension": ".py",
   "mimetype": "text/x-python",
   "name": "python",
   "nbconvert_exporter": "python",
   "pygments_lexer": "ipython2",
   "version": "2.7.6"
  }
 },
 "nbformat": 4,
 "nbformat_minor": 5
}
